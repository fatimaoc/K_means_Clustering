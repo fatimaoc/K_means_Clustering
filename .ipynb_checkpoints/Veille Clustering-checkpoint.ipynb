{
 "cells": [
  {
   "cell_type": "markdown",
   "metadata": {},
   "source": [
    "# Apprentissage non-supervisé/ Algorythme K-means"
   ]
  },
  {
   "cell_type": "markdown",
   "metadata": {},
   "source": [
    "*Découvrir l'apprentissage non-supervisé au travers de l'algorithme K-means.*"
   ]
  },
  {
   "cell_type": "markdown",
   "metadata": {},
   "source": [
    "## Contexte :"
   ]
  },
  {
   "cell_type": "markdown",
   "metadata": {},
   "source": [
    "L'apprentissage supervisé ce présente comme une approche de l'apprentissage automatique qui permet de découvrir la structure sous-jacente des données en l'absence d'étiquetage, c'est à dire sans catégories ou classe connues en avance.\n",
    "\n",
    "Afin de se familiariser avec cette approche et mieux l'appréhender pour l'utiliser dans des scénario plus complexes, les objectifs sont les suivants : * Nous souhaitons comprendre le principe de cette technique et les scénarios d'utilisation * Comprendre, expérimenter et évaluer un algorithme de cette classe de problème d'apprentissage : les K-moyennes (ou K-means) sur un jeu de données simple. * Comprendre et comparer les métrique d'évaluation en jeux * tester sur des jeux précédemment utilisé de classification, la capacité de l'algorithme à retrouver les catégories de prédiction.\n",
    "\n",
    "Question de veilles:\n",
    "\n",
    "* Qu'est ce que le clustering ? * Est ce un probleme difficile ? pourquoi ? Donnez la compléxité en temps et mémoire * Quelle sont les métriques utilisés pour le clustering ? * Ecrivez en une phrase votre compréhension pour 3 métrique métrique avec ground truth (dont MNI) 3 sans ground truth (dont silouhette) * donner en une phrase l'intuition derrière ces mesures. * différence entre NMI et AMI ?\n",
    "\n",
    "Tache abordée * visualisation des clusters en 2 ou 3D via l'emploi des algorithmes de réduction de dimensions * recherche du nombre cluster optimaux aux regards de l'inertie et la silhouette. * etude de la qualité de clusters avec un vérité terrain"
   ]
  },
  {
   "cell_type": "markdown",
   "metadata": {},
   "source": [
    "## 1) Questions de veilles :"
   ]
  },
  {
   "cell_type": "markdown",
   "metadata": {},
   "source": [
    "### 1.a) Qu'est ce que le clustering? "
   ]
  },
  {
   "cell_type": "markdown",
   "metadata": {},
   "source": [
    "Le clustering est une méthode d'apprentissage automatique qui consiste à regrouper des point de données par *similarité* ou par *distance*.\n",
    "C'est une méthode d'apprentissage non supervisée.\n",
    " Pour un ensemble donné de points, vous pouvez utiliser des algorithmes de classification pour classer ces points de données individuels dans des groupes spécifiques. En conséquence, les points de données d’un groupe particulier présentent des propriétés similaires. Dans le même temps, les points de données de différents groupes ont des caractéristiques différentes.\n"
   ]
  },
  {
   "cell_type": "markdown",
   "metadata": {},
   "source": [
    "### 1.b) Scénario d'utilisation de l'apprentissage non supervisé"
   ]
  },
  {
   "cell_type": "markdown",
   "metadata": {},
   "source": [
    "## 2)Algorithme K-means "
   ]
  },
  {
   "cell_type": "markdown",
   "metadata": {},
   "source": [
    "### 2.a ) Expérimentation de l'algorithme"
   ]
  },
  {
   "cell_type": "code",
   "execution_count": null,
   "metadata": {},
   "outputs": [],
   "source": []
  }
 ],
 "metadata": {
  "kernelspec": {
   "display_name": "Python 3",
   "language": "python",
   "name": "python3"
  },
  "language_info": {
   "codemirror_mode": {
    "name": "ipython",
    "version": 3
   },
   "file_extension": ".py",
   "mimetype": "text/x-python",
   "name": "python",
   "nbconvert_exporter": "python",
   "pygments_lexer": "ipython3",
   "version": "3.9.1"
  }
 },
 "nbformat": 4,
 "nbformat_minor": 4
}
